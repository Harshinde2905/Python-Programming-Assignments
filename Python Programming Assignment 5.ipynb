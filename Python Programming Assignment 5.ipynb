{
 "cells": [
  {
   "cell_type": "markdown",
   "metadata": {},
   "source": [
    "# 1. Write a Python Program to Find LCM?"
   ]
  },
  {
   "cell_type": "code",
   "execution_count": 2,
   "metadata": {},
   "outputs": [
    {
     "name": "stdout",
     "output_type": "stream",
     "text": [
      "Let's find LCM of two numbers\n",
      "Enter no. 1: 24\n",
      "Enter no. 2: 36\n"
     ]
    },
    {
     "data": {
      "text/plain": [
       "72"
      ]
     },
     "execution_count": 2,
     "metadata": {},
     "output_type": "execute_result"
    }
   ],
   "source": [
    "print(\"Let's find LCM of two numbers\")\n",
    "def lcm(x,y):\n",
    "    if x>y:\n",
    "        greater = x\n",
    "    else:\n",
    "        greater = y\n",
    "        \n",
    "    while True:\n",
    "        if greater % x == 0 and greater%y== 0:\n",
    "            lcm = greater \n",
    "            break\n",
    "        greater +=1\n",
    "    return lcm\n",
    "\n",
    "inp1 = int(input(\"Enter no. 1: \"))\n",
    "inp2 = int(input(\"Enter no. 2: \"))\n",
    "\n",
    "lcm(inp1,inp2)"
   ]
  },
  {
   "cell_type": "markdown",
   "metadata": {},
   "source": [
    "# 2. Write a Python Program to Find HCF?"
   ]
  },
  {
   "cell_type": "code",
   "execution_count": 14,
   "metadata": {},
   "outputs": [
    {
     "name": "stdout",
     "output_type": "stream",
     "text": [
      "Let's find HCF of two numbers\n",
      "Enter no. 1: 24\n",
      "Enter no. 2: 6\n",
      "6\n"
     ]
    }
   ],
   "source": [
    "print(\"Let's find HCF of two numbers\")\n",
    "x = int(input(\"Enter no. 1: \"))\n",
    "y = int(input(\"Enter no. 2: \"))\n",
    "if x>y:\n",
    "    greater = x\n",
    "else:\n",
    "    greater = y\n",
    "    \n",
    "for i in range(1,greater+1):\n",
    "    if x%1==0 and y%i==0:\n",
    "        hcf = i\n",
    "print(hcf)"
   ]
  },
  {
   "cell_type": "markdown",
   "metadata": {},
   "source": [
    "# 3. Write a Python Program to Convert Decimal to Binary, Octal and Hexadecimal?"
   ]
  },
  {
   "cell_type": "code",
   "execution_count": 15,
   "metadata": {},
   "outputs": [
    {
     "name": "stdout",
     "output_type": "stream",
     "text": [
      "Enter Number: 12\n",
      "Decimal number is 12\n",
      "Binary number is 0b1100\n",
      "Octal number is 0o14\n",
      "Hexadecimal number is 0xc\n"
     ]
    }
   ],
   "source": [
    "num = int(input(\"Enter Number: \"))\n",
    "print(f\"Decimal number is {num}\")\n",
    "print(f\"Binary number is {bin(num)}\")\n",
    "print(f\"Octal number is {oct(num)}\")\n",
    "print(f\"Hexadecimal number is {hex(num)}\")"
   ]
  },
  {
   "cell_type": "markdown",
   "metadata": {},
   "source": [
    "# 4. Write a Python Program To Find ASCII value of a character?"
   ]
  },
  {
   "cell_type": "code",
   "execution_count": 23,
   "metadata": {},
   "outputs": [
    {
     "name": "stdout",
     "output_type": "stream",
     "text": [
      "Enter Character: &\n",
      "ASCII value of & is 38\n"
     ]
    }
   ],
   "source": [
    "char = input(\"Enter Character: \")\n",
    "print(f\"ASCII value of {char} is {ord(char)}\")"
   ]
  },
  {
   "cell_type": "markdown",
   "metadata": {},
   "source": [
    "# 5. Write a Python Program to Make a Simple Calculator with 4 basic mathematical operations?"
   ]
  },
  {
   "cell_type": "code",
   "execution_count": 32,
   "metadata": {},
   "outputs": [
    {
     "name": "stdout",
     "output_type": "stream",
     "text": [
      "'*' for multiplication\n",
      "'/' to divide\n",
      "'+' for Addition\n",
      "'-' for subtraction'\n",
      "What operation you wish to perform?/\n",
      "Enter first number: 1\n",
      "Enter second number: 0\n",
      "Value cannot be zero!\n"
     ]
    }
   ],
   "source": [
    "try:\n",
    "    print(\"'*' for multiplication\\n'/' to divide\\n'+' for Addition\\n'-' for subtraction'\")\n",
    "    op = input(\"What operation you wish to perform?\")\n",
    "    a = int(input(\"Enter first number: \"))\n",
    "    b = int(input(\"Enter second number: \"))\n",
    "    output = 0\n",
    "\n",
    "    if op not in ['+','-','/','*']:\n",
    "        raise Exception(\"\\nEnter valid Operator and try again!\")\n",
    "    elif op == '+':\n",
    "        output = a + b\n",
    "    elif op == '*':\n",
    "        output = a * b\n",
    "    elif op == '-':\n",
    "        output = a - b\n",
    "    elif op == '/':\n",
    "        if b == 0:\n",
    "            raise ZeroDivisionError\n",
    "        else:\n",
    "            output = a / b\n",
    "    print(\"Output is \", output)\n",
    "\n",
    "except ZeroDivisionError:\n",
    "    print(\"Value cannot be zero!\")\n",
    "except ValueError:\n",
    "    print(\"Enter integer only!\")\n",
    "except Exception as e:\n",
    "    print(e)"
   ]
  }
 ],
 "metadata": {
  "kernelspec": {
   "display_name": "Python 3",
   "language": "python",
   "name": "python3"
  },
  "language_info": {
   "codemirror_mode": {
    "name": "ipython",
    "version": 3
   },
   "file_extension": ".py",
   "mimetype": "text/x-python",
   "name": "python",
   "nbconvert_exporter": "python",
   "pygments_lexer": "ipython3",
   "version": "3.8.5"
  }
 },
 "nbformat": 4,
 "nbformat_minor": 4
}
