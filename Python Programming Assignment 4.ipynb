{
 "cells": [
  {
   "cell_type": "markdown",
   "metadata": {},
   "source": [
    "# 1. Write a Python Program to Find the Factorial of a Number?"
   ]
  },
  {
   "cell_type": "code",
   "execution_count": 34,
   "metadata": {},
   "outputs": [
    {
     "name": "stdout",
     "output_type": "stream",
     "text": [
      "Enter the number to find factorials: 7\n",
      "\n",
      "Factorial of 7 is 5040\n"
     ]
    }
   ],
   "source": [
    "import logging\n",
    "logging.basicConfig(filename = \"assgn4log.log\", level=logging.INFO)\n",
    "logging.info(\"Ass.4. Q1. Write a Python Program to Find the Factorial of a Number?\")\n",
    "\n",
    "num = int(input(\"Enter the number to find factorials: \"))\n",
    "\n",
    "logging.info(\"Input from user taken %d\" %num)\n",
    "\n",
    "fact = 1\n",
    "for i in range(1,num+1):\n",
    "    fact = fact * i\n",
    "\n",
    "logging.info(\"Output generated successfully\\nOutput is %d\" %fact)\n",
    "\n",
    "print(\"\\nFactorial of %d is %d\" %(num, fact))"
   ]
  },
  {
   "cell_type": "markdown",
   "metadata": {},
   "source": [
    "# 2. Write a Python Program to Display the multiplication Table?"
   ]
  },
  {
   "cell_type": "code",
   "execution_count": 49,
   "metadata": {},
   "outputs": [
    {
     "name": "stdout",
     "output_type": "stream",
     "text": [
      "Finding Multiplication Table!\n",
      "Enter Number: 36\n",
      "36 x 1 = 36\n",
      "36 x 2 = 72\n",
      "36 x 3 = 108\n",
      "36 x 4 = 144\n",
      "36 x 5 = 180\n",
      "36 x 6 = 216\n",
      "36 x 7 = 252\n",
      "36 x 8 = 288\n",
      "36 x 9 = 324\n",
      "36 x 10 = 360\n"
     ]
    }
   ],
   "source": [
    "try:\n",
    "    print(\"Finding Multiplication Table!\")\n",
    "    n = int(input(\"Enter Number: \"))\n",
    "    for i in range(1,11):\n",
    "        print(\"%d x %d = %d\"%(n,i,i*n))\n",
    "        \n",
    "except ValueError:\n",
    "    print(\"Enter only integer value\")"
   ]
  },
  {
   "cell_type": "markdown",
   "metadata": {},
   "source": [
    "# 3. Write a Python Program to Print the Fibonacci sequence?"
   ]
  },
  {
   "cell_type": "code",
   "execution_count": 56,
   "metadata": {},
   "outputs": [
    {
     "name": "stdout",
     "output_type": "stream",
     "text": [
      "Enter Number: 7\n",
      "Fibonacci Sequence: \n",
      "0\n",
      "1\n",
      "1\n",
      "2\n",
      "3\n",
      "5\n",
      "8\n"
     ]
    }
   ],
   "source": [
    "n = int(input(\"Enter Number: \"))\n",
    "a = 0\n",
    "b = 1\n",
    "sum = 0\n",
    "count = 0\n",
    "\n",
    "if n <= 0:\n",
    "    print(\"Enter only positive values!\")\n",
    "elif n ==1:\n",
    "    print(\"Enter Number other than one\")\n",
    "else:\n",
    "    print(\"Fibonacci Sequence: \")\n",
    "    while count<n:\n",
    "        print(a)\n",
    "        sum = a + b\n",
    "        a = b\n",
    "        b = sum\n",
    "        count += 1\n",
    "\n"
   ]
  },
  {
   "cell_type": "markdown",
   "metadata": {},
   "source": [
    "# 4. Write a Python Program to Check Armstrong Number?"
   ]
  },
  {
   "cell_type": "code",
   "execution_count": 70,
   "metadata": {},
   "outputs": [
    {
     "name": "stdout",
     "output_type": "stream",
     "text": [
      "Enter Number: 370\n",
      "370  is an Armstrong Number!\n"
     ]
    }
   ],
   "source": [
    "armno =int(input(\"Enter Number: \"))\n",
    "temp = armno\n",
    "summ = 0\n",
    "\n",
    "while temp>0:\n",
    "    digit = temp%10\n",
    "    summ = summ + digit**3\n",
    "    temp //= 10                    # temp = temp//10\n",
    "    \n",
    "if armno == summ:\n",
    "    print(armno,\" is an Armstrong Number!\")\n",
    "else:\n",
    "    print(armno,\" is not an Armstrong Number.\")"
   ]
  },
  {
   "cell_type": "markdown",
   "metadata": {},
   "source": [
    "# 5. Write a Python Program to Find Armstrong Number in an Interval?"
   ]
  },
  {
   "cell_type": "code",
   "execution_count": 89,
   "metadata": {},
   "outputs": [
    {
     "name": "stdout",
     "output_type": "stream",
     "text": [
      "Lets find armstrong numbers till number you enter!\n",
      "Enter Number: 10000\n",
      "153\n",
      "370\n",
      "371\n",
      "407\n",
      "1634\n",
      "8208\n",
      "9474\n"
     ]
    }
   ],
   "source": [
    "print(\"Lets find armstrong numbers till number you enter!\")\n",
    "upper = int(input(\"Enter Number: \"))\n",
    "\n",
    "for num in range(10, upper+1):\n",
    "    order = len(str(num))\n",
    "    sum = 0\n",
    "    temp = num\n",
    "    while temp > 0:\n",
    "        digit = temp % 10\n",
    "        sum += digit ** order\n",
    "        temp //= 10\n",
    "\n",
    "    if num == sum:\n",
    "        print(num)"
   ]
  },
  {
   "cell_type": "markdown",
   "metadata": {},
   "source": [
    "# 6. Write a Python Program to Find the Sum of Natural Numbers?"
   ]
  },
  {
   "cell_type": "code",
   "execution_count": 6,
   "metadata": {},
   "outputs": [
    {
     "name": "stdout",
     "output_type": "stream",
     "text": [
      "Let's find the Sum of Natural Numbers\n",
      "Enter any number: 21\n",
      "The sum of numbers is:  231\n"
     ]
    }
   ],
   "source": [
    "print(\"Let's find the Sum of Natural Numbers\")\n",
    "numb = int(input(\"Enter any number: \"))\n",
    "\n",
    "if numb<=0:\n",
    "    print(\"Enter positive number!\")\n",
    "    \n",
    "else:\n",
    "    summ = 0\n",
    "    while (numb>0):\n",
    "        summ += numb\n",
    "        numb -= 1\n",
    "    print(\"The sum of numbers is: \",summ)\n",
    "    \n",
    "    \n",
    "\n"
   ]
  }
 ],
 "metadata": {
  "kernelspec": {
   "display_name": "Python 3",
   "language": "python",
   "name": "python3"
  },
  "language_info": {
   "codemirror_mode": {
    "name": "ipython",
    "version": 3
   },
   "file_extension": ".py",
   "mimetype": "text/x-python",
   "name": "python",
   "nbconvert_exporter": "python",
   "pygments_lexer": "ipython3",
   "version": "3.8.5"
  }
 },
 "nbformat": 4,
 "nbformat_minor": 4
}
