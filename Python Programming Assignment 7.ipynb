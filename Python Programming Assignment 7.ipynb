{
 "cells": [
  {
   "cell_type": "markdown",
   "metadata": {},
   "source": [
    "# 1. Write a Python Program to find sum of array?"
   ]
  },
  {
   "cell_type": "code",
   "execution_count": 6,
   "metadata": {},
   "outputs": [
    {
     "name": "stdout",
     "output_type": "stream",
     "text": [
      "The sum of array is 279\n"
     ]
    }
   ],
   "source": [
    "arr = [12,43,13,6,87,39,79]\n",
    "sum = 0\n",
    "for i in arr:\n",
    "    sum += i\n",
    "print(f\"The sum of array is {sum}\")\n"
   ]
  },
  {
   "cell_type": "markdown",
   "metadata": {},
   "source": [
    "# 2. Write a Python Program to find largest element in an array?"
   ]
  },
  {
   "cell_type": "code",
   "execution_count": 8,
   "metadata": {},
   "outputs": [
    {
     "name": "stdout",
     "output_type": "stream",
     "text": [
      "The largest number in the list is 897\n"
     ]
    }
   ],
   "source": [
    "arr = [12,54,58,4,897,34,7]\n",
    "large = 0\n",
    "for i in arr:\n",
    "    if i>large:\n",
    "        large = i\n",
    "        \n",
    "print(f\"The largest number in the list is {large}\")"
   ]
  },
  {
   "cell_type": "markdown",
   "metadata": {},
   "source": [
    "# 3. Write a Python Program for array rotation?"
   ]
  },
  {
   "cell_type": "code",
   "execution_count": 5,
   "metadata": {},
   "outputs": [
    {
     "name": "stdout",
     "output_type": "stream",
     "text": [
      "Right side rotated array is [19, 54, 68, 97, 67, 96, 12, 13]\n"
     ]
    }
   ],
   "source": [
    "arr = [12,13,19,54,68,97,67,96]\n",
    "ar2 = [0 for i in range(len(arr))]\n",
    "\n",
    "rotate = 2\n",
    "direction = 'right'\n",
    "\n",
    "if direction == 'right':\n",
    "    ar2[0:len(ar2)-rotate] = arr[rotate:len(arr)]\n",
    "    ar2[len(ar2)-rotate : len(ar2)] = arr[0:rotate]\n",
    "    print(f\"Right side rotated array is {ar2}\")\n",
    "elif direction == 'left':\n",
    "    ar2[0:rotate] = arr[len(arr)-rotate:len(arr)]\n",
    "    ar2[rotate:len(ar2)] = arr[0:len(arr)-rotate]\n",
    "    print(f\"Left side rotated array is {ar2}\")"
   ]
  },
  {
   "cell_type": "markdown",
   "metadata": {},
   "source": [
    "# 4. Write a Python Program to Split the array and add the first part to the end?"
   ]
  },
  {
   "cell_type": "code",
   "execution_count": 8,
   "metadata": {},
   "outputs": [
    {
     "name": "stdout",
     "output_type": "stream",
     "text": [
      "New array is:\n",
      "[1, 2, 3, 4, 5, 6, 7, 8, 9, 1, 2, 3, 4]\n"
     ]
    }
   ],
   "source": [
    "arr = [1,2,3,4,5,6,7,8,9]\n",
    "i = int(len(arr)/2)\n",
    "arr2 = [0 for i in range(len(arr)+i)]\n",
    "arr2[0:len(arr)] = arr\n",
    "arr2[len(arr):len(arr2)] = arr[0:i]\n",
    "print(f\"New array is:\\n{arr2}\")"
   ]
  },
  {
   "cell_type": "markdown",
   "metadata": {},
   "source": [
    "# 5. Write a Python Program to check if given array is Monotonic?"
   ]
  },
  {
   "cell_type": "code",
   "execution_count": 10,
   "metadata": {},
   "outputs": [
    {
     "name": "stdout",
     "output_type": "stream",
     "text": [
      "The Array is monotonic\n"
     ]
    }
   ],
   "source": [
    "arr = [1,2,2,5,56,7,34,21]\n",
    "moni = True\n",
    "mond = True\n",
    "\n",
    "for i in range(len(arr)-1):\n",
    "    if arr[1] >= arr[0]:\n",
    "        if arr[i+1] < arr[i]:\n",
    "            moni = False\n",
    "            break\n",
    "            \n",
    "for i in range(len(arr)-1):\n",
    "    if arr[1] <= arr[0]:\n",
    "        if arr[i+1] > arr[i]:\n",
    "            mond = False\n",
    "            break\n",
    "            \n",
    "if moni or mond:\n",
    "    print(\"The Array is monotonic\")\n",
    "else:\n",
    "    print(\"The Array is not monotonic\")"
   ]
  }
 ],
 "metadata": {
  "kernelspec": {
   "display_name": "Python 3",
   "language": "python",
   "name": "python3"
  },
  "language_info": {
   "codemirror_mode": {
    "name": "ipython",
    "version": 3
   },
   "file_extension": ".py",
   "mimetype": "text/x-python",
   "name": "python",
   "nbconvert_exporter": "python",
   "pygments_lexer": "ipython3",
   "version": "3.8.5"
  }
 },
 "nbformat": 4,
 "nbformat_minor": 4
}
